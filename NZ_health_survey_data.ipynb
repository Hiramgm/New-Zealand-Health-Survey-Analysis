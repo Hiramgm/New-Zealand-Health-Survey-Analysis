{
  "cells": [
    {
      "cell_type": "markdown",
      "metadata": {
        "id": "ybxzG3fK5_dV"
      },
      "source": [
        "# Assessing the health behaviours, health status and access to health care for both adults and children.\n",
        "\n",
        "### 1. Introduction\n",
        "In this report, an extensive dataset comprising health surveys conducted in New Zealand is examined. The focus of this investigation encompasses the interrelationships among various variables, including population demographics, descriptions, groupings, and chronological trends.\n",
        "\n",
        "The primary objective of this study is to assess the patterns of health within diverse demographic groups encompassing both adults and children across multiple regions of New Zealand. The specific area of interest pertains to the prevalence of anxiety within these populations. Several assumptions underpin this research, including the hypothesis that anxiety becomes more prevalent as individuals age, particularly when comparing adults to children. Additionally, the population is categorized into two distinct groups: adults and children, with the investigation aiming to discern the incidence rates within each group. Moreover, this study delves into the significant variable of smoking rates, seeking to determine whether there has been a change in the prevalence of smoking cases over the years.\n",
        "\n",
        "The following inquiries are central to this report:\n",
        "\n",
        "1: How has the incidence of anxiety disorders evolved over time among both adult and child populations?\n",
        "\n",
        "2: What is the overarching trend in smoking rates across New Zealand, and which year exhibits the highest prevalence of smoking?\n",
        "\n"
      ]
    },
    {
      "cell_type": "markdown",
      "metadata": {
        "id": "qnKsXdrGo_JG"
      },
      "source": [
        "## Importing Modules"
      ]
    },
    {
      "cell_type": "code",
      "execution_count": null,
      "metadata": {
        "id": "FCzZsCRXo_JH"
      },
      "outputs": [],
      "source": [
        "import pandas as pd\n",
        "import matplotlib.pyplot as plt\n",
        "%matplotlib inline\n",
        "from pylab import rcParams\n",
        "\n",
        "%matplotlib inline\n",
        "plt.style.use('ggplot')\n",
        "rcParams['figure.figsize'] = 15, 10\n",
        "rcParams['font.size'] = 20\n",
        "rcParams['axes.facecolor'] = 'white'\n",
        "import re"
      ]
    },
    {
      "cell_type": "markdown",
      "metadata": {
        "id": "ugRa6oey5_dX"
      },
      "source": [
        "## Importing the data set"
      ]
    },
    {
      "cell_type": "markdown",
      "metadata": {
        "id": "vqPUeBLp5_dZ"
      },
      "source": [
        "#### Below is a dataset extracted from \"health_survey.csv\" and save to a dataframe object."
      ]
    },
    {
      "cell_type": "code",
      "execution_count": null,
      "metadata": {
        "id": "7mIuupzq5_da"
      },
      "outputs": [],
      "source": [
        "health_df=pd.read_csv('health_survey.csv',encoding='latin')"
      ]
    },
    {
      "cell_type": "markdown",
      "metadata": {
        "id": "BpOoHJ7to_JI"
      },
      "source": [
        "We begin by determining how much data we have to work with."
      ]
    },
    {
      "cell_type": "code",
      "execution_count": null,
      "metadata": {
        "id": "JMA4tOYWo_JI",
        "outputId": "95c94147-ccfc-40e4-df10-ac0ce012fb1b"
      },
      "outputs": [
        {
          "data": {
            "text/plain": [
              "(3356, 19)"
            ]
          },
          "execution_count": 3,
          "metadata": {},
          "output_type": "execute_result"
        }
      ],
      "source": [
        "health_df.shape"
      ]
    },
    {
      "cell_type": "markdown",
      "metadata": {
        "id": "2pqUqzcIo_JI"
      },
      "source": [
        "The survey dataset conducted in New Zealand contains 3,356 records with 19 different columns.\n",
        "\n",
        "We will take a preliminary view of the dataset to assess it for exploration."
      ]
    },
    {
      "cell_type": "code",
      "execution_count": null,
      "metadata": {
        "id": "de-RMbGdo_JJ",
        "outputId": "3dd57794-f6fd-45bd-f421-edd2166b217e"
      },
      "outputs": [
        {
          "data": {
            "text/html": [
              "<div>\n",
              "<style scoped>\n",
              "    .dataframe tbody tr th:only-of-type {\n",
              "        vertical-align: middle;\n",
              "    }\n",
              "\n",
              "    .dataframe tbody tr th {\n",
              "        vertical-align: top;\n",
              "    }\n",
              "\n",
              "    .dataframe thead th {\n",
              "        text-align: right;\n",
              "    }\n",
              "</style>\n",
              "<table border=\"1\" class=\"dataframe\">\n",
              "  <thead>\n",
              "    <tr style=\"text-align: right;\">\n",
              "      <th></th>\n",
              "      <th>Unnamed: 0</th>\n",
              "      <th>population</th>\n",
              "      <th>short.description</th>\n",
              "      <th>group</th>\n",
              "      <th>percent.16</th>\n",
              "      <th>percent.15</th>\n",
              "      <th>percent.14</th>\n",
              "      <th>percent.13</th>\n",
              "      <th>percent.12</th>\n",
              "      <th>percent.11</th>\n",
              "      <th>percent.06</th>\n",
              "      <th>percent.07</th>\n",
              "      <th>p.value.16.15</th>\n",
              "      <th>p.value.16.14</th>\n",
              "      <th>p.value.16.13</th>\n",
              "      <th>p.value.16.12</th>\n",
              "      <th>p.value.16.11</th>\n",
              "      <th>p.value.16.06</th>\n",
              "      <th>p.value.16.07</th>\n",
              "    </tr>\n",
              "  </thead>\n",
              "  <tbody>\n",
              "    <tr>\n",
              "      <th>0</th>\n",
              "      <td>1</td>\n",
              "      <td>adults</td>\n",
              "      <td>Physically active</td>\n",
              "      <td>Total</td>\n",
              "      <td>50.2</td>\n",
              "      <td>47.7</td>\n",
              "      <td>50.7</td>\n",
              "      <td>52.1</td>\n",
              "      <td>51.7</td>\n",
              "      <td>54.4</td>\n",
              "      <td>52.0</td>\n",
              "      <td>NaN</td>\n",
              "      <td>0.0054</td>\n",
              "      <td>0.7635</td>\n",
              "      <td>0.3533</td>\n",
              "      <td>0.4386</td>\n",
              "      <td>0.0068</td>\n",
              "      <td>0.1178</td>\n",
              "      <td>NaN</td>\n",
              "    </tr>\n",
              "    <tr>\n",
              "      <th>1</th>\n",
              "      <td>2</td>\n",
              "      <td>adults</td>\n",
              "      <td>Physically active</td>\n",
              "      <td>Men</td>\n",
              "      <td>53.0</td>\n",
              "      <td>51.0</td>\n",
              "      <td>55.2</td>\n",
              "      <td>55.2</td>\n",
              "      <td>55.8</td>\n",
              "      <td>57.3</td>\n",
              "      <td>55.5</td>\n",
              "      <td>NaN</td>\n",
              "      <td>0.0649</td>\n",
              "      <td>0.2558</td>\n",
              "      <td>0.3232</td>\n",
              "      <td>0.1348</td>\n",
              "      <td>0.0247</td>\n",
              "      <td>0.0971</td>\n",
              "      <td>NaN</td>\n",
              "    </tr>\n",
              "    <tr>\n",
              "      <th>2</th>\n",
              "      <td>3</td>\n",
              "      <td>adults</td>\n",
              "      <td>Physically active</td>\n",
              "      <td>Women</td>\n",
              "      <td>47.6</td>\n",
              "      <td>44.5</td>\n",
              "      <td>46.5</td>\n",
              "      <td>49.1</td>\n",
              "      <td>47.9</td>\n",
              "      <td>51.7</td>\n",
              "      <td>48.8</td>\n",
              "      <td>NaN</td>\n",
              "      <td>0.0165</td>\n",
              "      <td>0.5380</td>\n",
              "      <td>0.5282</td>\n",
              "      <td>0.9708</td>\n",
              "      <td>0.0131</td>\n",
              "      <td>0.3323</td>\n",
              "      <td>NaN</td>\n",
              "    </tr>\n",
              "    <tr>\n",
              "      <th>3</th>\n",
              "      <td>4</td>\n",
              "      <td>adults</td>\n",
              "      <td>Physically active</td>\n",
              "      <td>15-17</td>\n",
              "      <td>47.1</td>\n",
              "      <td>41.7</td>\n",
              "      <td>49.6</td>\n",
              "      <td>46.7</td>\n",
              "      <td>52.7</td>\n",
              "      <td>58.1</td>\n",
              "      <td>58.6</td>\n",
              "      <td>NaN</td>\n",
              "      <td>0.1554</td>\n",
              "      <td>0.5678</td>\n",
              "      <td>0.9125</td>\n",
              "      <td>0.2326</td>\n",
              "      <td>0.0074</td>\n",
              "      <td>0.0048</td>\n",
              "      <td>NaN</td>\n",
              "    </tr>\n",
              "    <tr>\n",
              "      <th>4</th>\n",
              "      <td>5</td>\n",
              "      <td>adults</td>\n",
              "      <td>Physically active</td>\n",
              "      <td>18-24</td>\n",
              "      <td>53.5</td>\n",
              "      <td>49.7</td>\n",
              "      <td>52.6</td>\n",
              "      <td>53.7</td>\n",
              "      <td>54.9</td>\n",
              "      <td>57.4</td>\n",
              "      <td>55.3</td>\n",
              "      <td>NaN</td>\n",
              "      <td>0.1104</td>\n",
              "      <td>0.3706</td>\n",
              "      <td>0.4546</td>\n",
              "      <td>0.7370</td>\n",
              "      <td>0.3865</td>\n",
              "      <td>0.7472</td>\n",
              "      <td>NaN</td>\n",
              "    </tr>\n",
              "  </tbody>\n",
              "</table>\n",
              "</div>"
            ],
            "text/plain": [
              "   Unnamed: 0 population  short.description  group  percent.16  percent.15  \\\n",
              "0           1     adults  Physically active  Total        50.2        47.7   \n",
              "1           2     adults  Physically active    Men        53.0        51.0   \n",
              "2           3     adults  Physically active  Women        47.6        44.5   \n",
              "3           4     adults  Physically active  15-17        47.1        41.7   \n",
              "4           5     adults  Physically active  18-24        53.5        49.7   \n",
              "\n",
              "   percent.14  percent.13  percent.12  percent.11  percent.06  percent.07  \\\n",
              "0        50.7        52.1        51.7        54.4        52.0         NaN   \n",
              "1        55.2        55.2        55.8        57.3        55.5         NaN   \n",
              "2        46.5        49.1        47.9        51.7        48.8         NaN   \n",
              "3        49.6        46.7        52.7        58.1        58.6         NaN   \n",
              "4        52.6        53.7        54.9        57.4        55.3         NaN   \n",
              "\n",
              "   p.value.16.15  p.value.16.14  p.value.16.13  p.value.16.12  p.value.16.11  \\\n",
              "0         0.0054         0.7635         0.3533         0.4386         0.0068   \n",
              "1         0.0649         0.2558         0.3232         0.1348         0.0247   \n",
              "2         0.0165         0.5380         0.5282         0.9708         0.0131   \n",
              "3         0.1554         0.5678         0.9125         0.2326         0.0074   \n",
              "4         0.1104         0.3706         0.4546         0.7370         0.3865   \n",
              "\n",
              "   p.value.16.06  p.value.16.07  \n",
              "0         0.1178            NaN  \n",
              "1         0.0971            NaN  \n",
              "2         0.3323            NaN  \n",
              "3         0.0048            NaN  \n",
              "4         0.7472            NaN  "
            ]
          },
          "execution_count": 4,
          "metadata": {},
          "output_type": "execute_result"
        }
      ],
      "source": [
        "health_df.head()"
      ]
    },
    {
      "cell_type": "markdown",
      "metadata": {
        "id": "TWs-r7Zho_JJ"
      },
      "source": [
        "There is a number of columns within the data, including population and short description groups. Some of the features in the dataset are not useful and provide unnecessary information.\n",
        "\n",
        "To better observe the data, we will drop the first unnamed column and the seven 'p.value' columns."
      ]
    },
    {
      "cell_type": "code",
      "execution_count": null,
      "metadata": {
        "id": "8JqM8DS45_dg"
      },
      "outputs": [],
      "source": [
        "health_df = health_df[[c for c in health_df.columns if not re.match(\"^(p\\.value|Unnamed)\", c)]]\n"
      ]
    },
    {
      "cell_type": "markdown",
      "metadata": {
        "id": "6JEZVI6qo_JJ"
      },
      "source": [
        "Now, we can easily identify several columns that may be suitable for our purposes.\n",
        "\n",
        "This report identifies the following columns: Years, population, description, and group. Its intention is to demonstrate the relationship, if any, between these variables. This observation is of significant importance in the New Zealand Health Survey.\n"
      ]
    },
    {
      "cell_type": "code",
      "execution_count": null,
      "metadata": {
        "id": "FNo-Dcsko_JJ",
        "outputId": "c992d8ac-898d-4d81-e1b5-78745de30c1f"
      },
      "outputs": [
        {
          "data": {
            "text/html": [
              "<div>\n",
              "<style scoped>\n",
              "    .dataframe tbody tr th:only-of-type {\n",
              "        vertical-align: middle;\n",
              "    }\n",
              "\n",
              "    .dataframe tbody tr th {\n",
              "        vertical-align: top;\n",
              "    }\n",
              "\n",
              "    .dataframe thead th {\n",
              "        text-align: right;\n",
              "    }\n",
              "</style>\n",
              "<table border=\"1\" class=\"dataframe\">\n",
              "  <thead>\n",
              "    <tr style=\"text-align: right;\">\n",
              "      <th></th>\n",
              "      <th>population</th>\n",
              "      <th>short.description</th>\n",
              "      <th>group</th>\n",
              "      <th>percent.16</th>\n",
              "      <th>percent.15</th>\n",
              "      <th>percent.14</th>\n",
              "      <th>percent.13</th>\n",
              "      <th>percent.12</th>\n",
              "      <th>percent.11</th>\n",
              "      <th>percent.06</th>\n",
              "      <th>percent.07</th>\n",
              "    </tr>\n",
              "  </thead>\n",
              "  <tbody>\n",
              "    <tr>\n",
              "      <th>0</th>\n",
              "      <td>adults</td>\n",
              "      <td>Physically active</td>\n",
              "      <td>Total</td>\n",
              "      <td>50.2</td>\n",
              "      <td>47.7</td>\n",
              "      <td>50.7</td>\n",
              "      <td>52.1</td>\n",
              "      <td>51.7</td>\n",
              "      <td>54.4</td>\n",
              "      <td>52.0</td>\n",
              "      <td>NaN</td>\n",
              "    </tr>\n",
              "    <tr>\n",
              "      <th>1</th>\n",
              "      <td>adults</td>\n",
              "      <td>Physically active</td>\n",
              "      <td>Men</td>\n",
              "      <td>53.0</td>\n",
              "      <td>51.0</td>\n",
              "      <td>55.2</td>\n",
              "      <td>55.2</td>\n",
              "      <td>55.8</td>\n",
              "      <td>57.3</td>\n",
              "      <td>55.5</td>\n",
              "      <td>NaN</td>\n",
              "    </tr>\n",
              "    <tr>\n",
              "      <th>2</th>\n",
              "      <td>adults</td>\n",
              "      <td>Physically active</td>\n",
              "      <td>Women</td>\n",
              "      <td>47.6</td>\n",
              "      <td>44.5</td>\n",
              "      <td>46.5</td>\n",
              "      <td>49.1</td>\n",
              "      <td>47.9</td>\n",
              "      <td>51.7</td>\n",
              "      <td>48.8</td>\n",
              "      <td>NaN</td>\n",
              "    </tr>\n",
              "    <tr>\n",
              "      <th>3</th>\n",
              "      <td>adults</td>\n",
              "      <td>Physically active</td>\n",
              "      <td>15-17</td>\n",
              "      <td>47.1</td>\n",
              "      <td>41.7</td>\n",
              "      <td>49.6</td>\n",
              "      <td>46.7</td>\n",
              "      <td>52.7</td>\n",
              "      <td>58.1</td>\n",
              "      <td>58.6</td>\n",
              "      <td>NaN</td>\n",
              "    </tr>\n",
              "    <tr>\n",
              "      <th>4</th>\n",
              "      <td>adults</td>\n",
              "      <td>Physically active</td>\n",
              "      <td>18-24</td>\n",
              "      <td>53.5</td>\n",
              "      <td>49.7</td>\n",
              "      <td>52.6</td>\n",
              "      <td>53.7</td>\n",
              "      <td>54.9</td>\n",
              "      <td>57.4</td>\n",
              "      <td>55.3</td>\n",
              "      <td>NaN</td>\n",
              "    </tr>\n",
              "  </tbody>\n",
              "</table>\n",
              "</div>"
            ],
            "text/plain": [
              "  population  short.description  group  percent.16  percent.15  percent.14  \\\n",
              "0     adults  Physically active  Total        50.2        47.7        50.7   \n",
              "1     adults  Physically active    Men        53.0        51.0        55.2   \n",
              "2     adults  Physically active  Women        47.6        44.5        46.5   \n",
              "3     adults  Physically active  15-17        47.1        41.7        49.6   \n",
              "4     adults  Physically active  18-24        53.5        49.7        52.6   \n",
              "\n",
              "   percent.13  percent.12  percent.11  percent.06  percent.07  \n",
              "0        52.1        51.7        54.4        52.0         NaN  \n",
              "1        55.2        55.8        57.3        55.5         NaN  \n",
              "2        49.1        47.9        51.7        48.8         NaN  \n",
              "3        46.7        52.7        58.1        58.6         NaN  \n",
              "4        53.7        54.9        57.4        55.3         NaN  "
            ]
          },
          "execution_count": 6,
          "metadata": {},
          "output_type": "execute_result"
        }
      ],
      "source": [
        "health_df.head()"
      ]
    },
    {
      "cell_type": "markdown",
      "metadata": {
        "id": "yKpRvHzno_JJ"
      },
      "source": [
        "## Cleaning the dataset\n",
        "\n",
        "After creating the dataframe that contains appropriate columns, I begin by renaming the column 'short description' to 'description' and replacing 'percent.' with '20' to create a more manageable name for the purpose of my data analysis and presentation."
      ]
    },
    {
      "cell_type": "code",
      "execution_count": null,
      "metadata": {
        "id": "p_bCT2ZVo_JK"
      },
      "outputs": [],
      "source": [
        "health_df=health_df.rename({'short.description':'description',},axis=1)\n",
        "health_df = health_df.rename(columns={x: x.replace('percent.', '20') for x in health_df.columns})"
      ]
    },
    {
      "cell_type": "markdown",
      "metadata": {
        "id": "gty2krHlo_JK"
      },
      "source": [
        "After performing the initial clean-up, we can view a piece of the data to confirm its successful cleaning."
      ]
    },
    {
      "cell_type": "code",
      "execution_count": null,
      "metadata": {
        "id": "Si-FeKqDo_JK",
        "outputId": "daa26bf2-6ecb-4d0a-c932-b49e41f576e8"
      },
      "outputs": [
        {
          "data": {
            "text/html": [
              "<div>\n",
              "<style scoped>\n",
              "    .dataframe tbody tr th:only-of-type {\n",
              "        vertical-align: middle;\n",
              "    }\n",
              "\n",
              "    .dataframe tbody tr th {\n",
              "        vertical-align: top;\n",
              "    }\n",
              "\n",
              "    .dataframe thead th {\n",
              "        text-align: right;\n",
              "    }\n",
              "</style>\n",
              "<table border=\"1\" class=\"dataframe\">\n",
              "  <thead>\n",
              "    <tr style=\"text-align: right;\">\n",
              "      <th></th>\n",
              "      <th>population</th>\n",
              "      <th>description</th>\n",
              "      <th>group</th>\n",
              "      <th>2016</th>\n",
              "      <th>2015</th>\n",
              "      <th>2014</th>\n",
              "      <th>2013</th>\n",
              "      <th>2012</th>\n",
              "      <th>2011</th>\n",
              "      <th>2006</th>\n",
              "      <th>2007</th>\n",
              "    </tr>\n",
              "  </thead>\n",
              "  <tbody>\n",
              "    <tr>\n",
              "      <th>0</th>\n",
              "      <td>adults</td>\n",
              "      <td>Physically active</td>\n",
              "      <td>Total</td>\n",
              "      <td>50.2</td>\n",
              "      <td>47.7</td>\n",
              "      <td>50.7</td>\n",
              "      <td>52.1</td>\n",
              "      <td>51.7</td>\n",
              "      <td>54.4</td>\n",
              "      <td>52.0</td>\n",
              "      <td>NaN</td>\n",
              "    </tr>\n",
              "    <tr>\n",
              "      <th>1</th>\n",
              "      <td>adults</td>\n",
              "      <td>Physically active</td>\n",
              "      <td>Men</td>\n",
              "      <td>53.0</td>\n",
              "      <td>51.0</td>\n",
              "      <td>55.2</td>\n",
              "      <td>55.2</td>\n",
              "      <td>55.8</td>\n",
              "      <td>57.3</td>\n",
              "      <td>55.5</td>\n",
              "      <td>NaN</td>\n",
              "    </tr>\n",
              "    <tr>\n",
              "      <th>2</th>\n",
              "      <td>adults</td>\n",
              "      <td>Physically active</td>\n",
              "      <td>Women</td>\n",
              "      <td>47.6</td>\n",
              "      <td>44.5</td>\n",
              "      <td>46.5</td>\n",
              "      <td>49.1</td>\n",
              "      <td>47.9</td>\n",
              "      <td>51.7</td>\n",
              "      <td>48.8</td>\n",
              "      <td>NaN</td>\n",
              "    </tr>\n",
              "    <tr>\n",
              "      <th>3</th>\n",
              "      <td>adults</td>\n",
              "      <td>Physically active</td>\n",
              "      <td>15-17</td>\n",
              "      <td>47.1</td>\n",
              "      <td>41.7</td>\n",
              "      <td>49.6</td>\n",
              "      <td>46.7</td>\n",
              "      <td>52.7</td>\n",
              "      <td>58.1</td>\n",
              "      <td>58.6</td>\n",
              "      <td>NaN</td>\n",
              "    </tr>\n",
              "    <tr>\n",
              "      <th>4</th>\n",
              "      <td>adults</td>\n",
              "      <td>Physically active</td>\n",
              "      <td>18-24</td>\n",
              "      <td>53.5</td>\n",
              "      <td>49.7</td>\n",
              "      <td>52.6</td>\n",
              "      <td>53.7</td>\n",
              "      <td>54.9</td>\n",
              "      <td>57.4</td>\n",
              "      <td>55.3</td>\n",
              "      <td>NaN</td>\n",
              "    </tr>\n",
              "  </tbody>\n",
              "</table>\n",
              "</div>"
            ],
            "text/plain": [
              "  population        description  group  2016  2015  2014  2013  2012  2011  \\\n",
              "0     adults  Physically active  Total  50.2  47.7  50.7  52.1  51.7  54.4   \n",
              "1     adults  Physically active    Men  53.0  51.0  55.2  55.2  55.8  57.3   \n",
              "2     adults  Physically active  Women  47.6  44.5  46.5  49.1  47.9  51.7   \n",
              "3     adults  Physically active  15-17  47.1  41.7  49.6  46.7  52.7  58.1   \n",
              "4     adults  Physically active  18-24  53.5  49.7  52.6  53.7  54.9  57.4   \n",
              "\n",
              "   2006  2007  \n",
              "0  52.0   NaN  \n",
              "1  55.5   NaN  \n",
              "2  48.8   NaN  \n",
              "3  58.6   NaN  \n",
              "4  55.3   NaN  "
            ]
          },
          "execution_count": 8,
          "metadata": {},
          "output_type": "execute_result"
        }
      ],
      "source": [
        "health_df.head()"
      ]
    },
    {
      "cell_type": "markdown",
      "metadata": {
        "id": "Pl79rolI5_dh"
      },
      "source": [
        "## Filtering\n",
        "\n",
        "To begin, we wanted to examine the unique labels in the 'description' column. This would help me find the relationship with the groups (adults and children).\n"
      ]
    },
    {
      "cell_type": "code",
      "execution_count": null,
      "metadata": {
        "id": "G1PGcB5f5_dh"
      },
      "outputs": [],
      "source": [
        "# Display the unique labels in the ‘description’\n",
        "# health_df['description'].unique().tolist()"
      ]
    },
    {
      "cell_type": "markdown",
      "metadata": {
        "id": "DuZD9HEu_9f8"
      },
      "source": [
        "\n",
        "Now, the dataframe is being filtered to include only the labels 'Physically active', 'Anxiety disorder', 'Daily smokers', 'Diabetes', 'Healthy weight', and 'Self-rated health - very good' in the 'description' column. The 'Group' column is set to 'Total', and the analysis focuses exclusively on the 'adults' population.\n"
      ]
    },
    {
      "cell_type": "code",
      "execution_count": null,
      "metadata": {
        "colab": {
          "base_uri": "https://localhost:8080/",
          "height": 238
        },
        "id": "7p2Uqk855_di",
        "outputId": "96f292cd-99c9-4674-d95e-12abfaecc850"
      },
      "outputs": [
        {
          "data": {
            "text/html": [
              "<div>\n",
              "<style scoped>\n",
              "    .dataframe tbody tr th:only-of-type {\n",
              "        vertical-align: middle;\n",
              "    }\n",
              "\n",
              "    .dataframe tbody tr th {\n",
              "        vertical-align: top;\n",
              "    }\n",
              "\n",
              "    .dataframe thead th {\n",
              "        text-align: right;\n",
              "    }\n",
              "</style>\n",
              "<table border=\"1\" class=\"dataframe\">\n",
              "  <thead>\n",
              "    <tr style=\"text-align: right;\">\n",
              "      <th></th>\n",
              "      <th>population</th>\n",
              "      <th>description</th>\n",
              "      <th>group</th>\n",
              "      <th>2016</th>\n",
              "      <th>2015</th>\n",
              "      <th>2014</th>\n",
              "      <th>2013</th>\n",
              "      <th>2012</th>\n",
              "      <th>2011</th>\n",
              "      <th>2006</th>\n",
              "      <th>2007</th>\n",
              "    </tr>\n",
              "  </thead>\n",
              "  <tbody>\n",
              "    <tr>\n",
              "      <th>0</th>\n",
              "      <td>adults</td>\n",
              "      <td>Physically active</td>\n",
              "      <td>Total</td>\n",
              "      <td>50.2</td>\n",
              "      <td>47.7</td>\n",
              "      <td>50.7</td>\n",
              "      <td>52.1</td>\n",
              "      <td>51.7</td>\n",
              "      <td>54.4</td>\n",
              "      <td>52.0</td>\n",
              "      <td>NaN</td>\n",
              "    </tr>\n",
              "    <tr>\n",
              "      <th>112</th>\n",
              "      <td>adults</td>\n",
              "      <td>Anxiety disorder</td>\n",
              "      <td>Total</td>\n",
              "      <td>10.3</td>\n",
              "      <td>9.5</td>\n",
              "      <td>7.8</td>\n",
              "      <td>8.4</td>\n",
              "      <td>6.4</td>\n",
              "      <td>6.1</td>\n",
              "      <td>4.3</td>\n",
              "      <td>NaN</td>\n",
              "    </tr>\n",
              "    <tr>\n",
              "      <th>292</th>\n",
              "      <td>adults</td>\n",
              "      <td>Daily smokers</td>\n",
              "      <td>Total</td>\n",
              "      <td>13.8</td>\n",
              "      <td>14.2</td>\n",
              "      <td>15.0</td>\n",
              "      <td>15.7</td>\n",
              "      <td>15.6</td>\n",
              "      <td>16.3</td>\n",
              "      <td>18.3</td>\n",
              "      <td>NaN</td>\n",
              "    </tr>\n",
              "    <tr>\n",
              "      <th>386</th>\n",
              "      <td>adults</td>\n",
              "      <td>Diabetes</td>\n",
              "      <td>Total</td>\n",
              "      <td>5.6</td>\n",
              "      <td>5.8</td>\n",
              "      <td>6.1</td>\n",
              "      <td>5.4</td>\n",
              "      <td>5.8</td>\n",
              "      <td>5.5</td>\n",
              "      <td>5.1</td>\n",
              "      <td>NaN</td>\n",
              "    </tr>\n",
              "    <tr>\n",
              "      <th>887</th>\n",
              "      <td>adults</td>\n",
              "      <td>Self-rated health - very good</td>\n",
              "      <td>Total</td>\n",
              "      <td>40.9</td>\n",
              "      <td>40.6</td>\n",
              "      <td>40.0</td>\n",
              "      <td>44.0</td>\n",
              "      <td>38.8</td>\n",
              "      <td>37.3</td>\n",
              "      <td>41.0</td>\n",
              "      <td>NaN</td>\n",
              "    </tr>\n",
              "    <tr>\n",
              "      <th>1263</th>\n",
              "      <td>adults</td>\n",
              "      <td>Healthy weight</td>\n",
              "      <td>Total</td>\n",
              "      <td>31.9</td>\n",
              "      <td>32.0</td>\n",
              "      <td>33.1</td>\n",
              "      <td>33.4</td>\n",
              "      <td>33.7</td>\n",
              "      <td>34.3</td>\n",
              "      <td>36.2</td>\n",
              "      <td>NaN</td>\n",
              "    </tr>\n",
              "  </tbody>\n",
              "</table>\n",
              "</div>"
            ],
            "text/plain": [
              "     population                    description  group  2016  2015  2014  2013  \\\n",
              "0        adults              Physically active  Total  50.2  47.7  50.7  52.1   \n",
              "112      adults               Anxiety disorder  Total  10.3   9.5   7.8   8.4   \n",
              "292      adults                  Daily smokers  Total  13.8  14.2  15.0  15.7   \n",
              "386      adults                       Diabetes  Total   5.6   5.8   6.1   5.4   \n",
              "887      adults  Self-rated health - very good  Total  40.9  40.6  40.0  44.0   \n",
              "1263     adults                 Healthy weight  Total  31.9  32.0  33.1  33.4   \n",
              "\n",
              "      2012  2011  2006  2007  \n",
              "0     51.7  54.4  52.0   NaN  \n",
              "112    6.4   6.1   4.3   NaN  \n",
              "292   15.6  16.3  18.3   NaN  \n",
              "386    5.8   5.5   5.1   NaN  \n",
              "887   38.8  37.3  41.0   NaN  \n",
              "1263  33.7  34.3  36.2   NaN  "
            ]
          },
          "execution_count": 10,
          "metadata": {},
          "output_type": "execute_result"
        }
      ],
      "source": [
        "df_Filtering=health_df[(health_df['description'].isin(['Physically active','Anxiety disorder','Daily smokers','Diabetes','Self-rated health - very good','Healthy weight']))&(health_df['population']=='adults') & (health_df['group']=='Total')]\n",
        "df_Filtering"
      ]
    },
    {
      "cell_type": "markdown",
      "metadata": {
        "id": "f8n43jwV5_di"
      },
      "source": [
        "## Wrangling and reshaping:\n",
        "\n",
        "To make some inference towards the data and relationship within, we have done wrangling to improve data usability. For doing this, we have used the pivot table. The resultant dataframe gives the representation of the 10 years of data.\n",
        "\n",
        "### Pivot table:\n",
        "It is a table of statistics that helps summarize the data of a larger table by “pivoting” that data.\n"
      ]
    },
    {
      "cell_type": "code",
      "execution_count": null,
      "metadata": {
        "colab": {
          "base_uri": "https://localhost:8080/",
          "height": 300
        },
        "id": "5jjYGadv5_di",
        "outputId": "510e38e6-7e74-402f-cd6b-5d8b1c299636"
      },
      "outputs": [
        {
          "data": {
            "text/html": [
              "<div>\n",
              "<style scoped>\n",
              "    .dataframe tbody tr th:only-of-type {\n",
              "        vertical-align: middle;\n",
              "    }\n",
              "\n",
              "    .dataframe tbody tr th {\n",
              "        vertical-align: top;\n",
              "    }\n",
              "\n",
              "    .dataframe thead th {\n",
              "        text-align: right;\n",
              "    }\n",
              "</style>\n",
              "<table border=\"1\" class=\"dataframe\">\n",
              "  <thead>\n",
              "    <tr style=\"text-align: right;\">\n",
              "      <th>description</th>\n",
              "      <th>Anxiety disorder</th>\n",
              "      <th>Daily smokers</th>\n",
              "      <th>Diabetes</th>\n",
              "      <th>Healthy weight</th>\n",
              "      <th>Physically active</th>\n",
              "      <th>Self-rated health - very good</th>\n",
              "    </tr>\n",
              "  </thead>\n",
              "  <tbody>\n",
              "    <tr>\n",
              "      <th>2006</th>\n",
              "      <td>4.3</td>\n",
              "      <td>18.3</td>\n",
              "      <td>5.1</td>\n",
              "      <td>36.2</td>\n",
              "      <td>52.0</td>\n",
              "      <td>41.0</td>\n",
              "    </tr>\n",
              "    <tr>\n",
              "      <th>2007</th>\n",
              "      <td>NaN</td>\n",
              "      <td>NaN</td>\n",
              "      <td>NaN</td>\n",
              "      <td>NaN</td>\n",
              "      <td>NaN</td>\n",
              "      <td>NaN</td>\n",
              "    </tr>\n",
              "    <tr>\n",
              "      <th>2011</th>\n",
              "      <td>6.1</td>\n",
              "      <td>16.3</td>\n",
              "      <td>5.5</td>\n",
              "      <td>34.3</td>\n",
              "      <td>54.4</td>\n",
              "      <td>37.3</td>\n",
              "    </tr>\n",
              "    <tr>\n",
              "      <th>2012</th>\n",
              "      <td>6.4</td>\n",
              "      <td>15.6</td>\n",
              "      <td>5.8</td>\n",
              "      <td>33.7</td>\n",
              "      <td>51.7</td>\n",
              "      <td>38.8</td>\n",
              "    </tr>\n",
              "    <tr>\n",
              "      <th>2013</th>\n",
              "      <td>8.4</td>\n",
              "      <td>15.7</td>\n",
              "      <td>5.4</td>\n",
              "      <td>33.4</td>\n",
              "      <td>52.1</td>\n",
              "      <td>44.0</td>\n",
              "    </tr>\n",
              "    <tr>\n",
              "      <th>2014</th>\n",
              "      <td>7.8</td>\n",
              "      <td>15.0</td>\n",
              "      <td>6.1</td>\n",
              "      <td>33.1</td>\n",
              "      <td>50.7</td>\n",
              "      <td>40.0</td>\n",
              "    </tr>\n",
              "    <tr>\n",
              "      <th>2015</th>\n",
              "      <td>9.5</td>\n",
              "      <td>14.2</td>\n",
              "      <td>5.8</td>\n",
              "      <td>32.0</td>\n",
              "      <td>47.7</td>\n",
              "      <td>40.6</td>\n",
              "    </tr>\n",
              "    <tr>\n",
              "      <th>2016</th>\n",
              "      <td>10.3</td>\n",
              "      <td>13.8</td>\n",
              "      <td>5.6</td>\n",
              "      <td>31.9</td>\n",
              "      <td>50.2</td>\n",
              "      <td>40.9</td>\n",
              "    </tr>\n",
              "  </tbody>\n",
              "</table>\n",
              "</div>"
            ],
            "text/plain": [
              "description  Anxiety disorder  Daily smokers  Diabetes  Healthy weight  \\\n",
              "2006                      4.3           18.3       5.1            36.2   \n",
              "2007                      NaN            NaN       NaN             NaN   \n",
              "2011                      6.1           16.3       5.5            34.3   \n",
              "2012                      6.4           15.6       5.8            33.7   \n",
              "2013                      8.4           15.7       5.4            33.4   \n",
              "2014                      7.8           15.0       6.1            33.1   \n",
              "2015                      9.5           14.2       5.8            32.0   \n",
              "2016                     10.3           13.8       5.6            31.9   \n",
              "\n",
              "description  Physically active  Self-rated health - very good  \n",
              "2006                      52.0                           41.0  \n",
              "2007                       NaN                            NaN  \n",
              "2011                      54.4                           37.3  \n",
              "2012                      51.7                           38.8  \n",
              "2013                      52.1                           44.0  \n",
              "2014                      50.7                           40.0  \n",
              "2015                      47.7                           40.6  \n",
              "2016                      50.2                           40.9  "
            ]
          },
          "execution_count": 11,
          "metadata": {},
          "output_type": "execute_result"
        }
      ],
      "source": [
        "#  ‘description’ labels are used as column names to generate a new table that have year as index\n",
        "df_Filtering=df_Filtering.pivot_table(columns='description')\n",
        "df_Filtering"
      ]
    },
    {
      "cell_type": "markdown",
      "metadata": {
        "id": "stDm0U4lo_JL"
      },
      "source": [
        "Renaming the index to 'Year'"
      ]
    },
    {
      "cell_type": "code",
      "execution_count": null,
      "metadata": {
        "colab": {
          "base_uri": "https://localhost:8080/",
          "height": 331
        },
        "id": "a4XbbkrM5_dj",
        "outputId": "10df30e0-32d5-4407-8d83-9e2980085db3"
      },
      "outputs": [
        {
          "data": {
            "text/html": [
              "<div>\n",
              "<style scoped>\n",
              "    .dataframe tbody tr th:only-of-type {\n",
              "        vertical-align: middle;\n",
              "    }\n",
              "\n",
              "    .dataframe tbody tr th {\n",
              "        vertical-align: top;\n",
              "    }\n",
              "\n",
              "    .dataframe thead th {\n",
              "        text-align: right;\n",
              "    }\n",
              "</style>\n",
              "<table border=\"1\" class=\"dataframe\">\n",
              "  <thead>\n",
              "    <tr style=\"text-align: right;\">\n",
              "      <th>description</th>\n",
              "      <th>Anxiety disorder</th>\n",
              "      <th>Daily smokers</th>\n",
              "      <th>Diabetes</th>\n",
              "      <th>Healthy weight</th>\n",
              "      <th>Physically active</th>\n",
              "      <th>Self-rated health - very good</th>\n",
              "    </tr>\n",
              "    <tr>\n",
              "      <th>Year</th>\n",
              "      <th></th>\n",
              "      <th></th>\n",
              "      <th></th>\n",
              "      <th></th>\n",
              "      <th></th>\n",
              "      <th></th>\n",
              "    </tr>\n",
              "  </thead>\n",
              "  <tbody>\n",
              "    <tr>\n",
              "      <th>2006</th>\n",
              "      <td>4.3</td>\n",
              "      <td>18.3</td>\n",
              "      <td>5.1</td>\n",
              "      <td>36.2</td>\n",
              "      <td>52.0</td>\n",
              "      <td>41.0</td>\n",
              "    </tr>\n",
              "    <tr>\n",
              "      <th>2007</th>\n",
              "      <td>NaN</td>\n",
              "      <td>NaN</td>\n",
              "      <td>NaN</td>\n",
              "      <td>NaN</td>\n",
              "      <td>NaN</td>\n",
              "      <td>NaN</td>\n",
              "    </tr>\n",
              "    <tr>\n",
              "      <th>2011</th>\n",
              "      <td>6.1</td>\n",
              "      <td>16.3</td>\n",
              "      <td>5.5</td>\n",
              "      <td>34.3</td>\n",
              "      <td>54.4</td>\n",
              "      <td>37.3</td>\n",
              "    </tr>\n",
              "    <tr>\n",
              "      <th>2012</th>\n",
              "      <td>6.4</td>\n",
              "      <td>15.6</td>\n",
              "      <td>5.8</td>\n",
              "      <td>33.7</td>\n",
              "      <td>51.7</td>\n",
              "      <td>38.8</td>\n",
              "    </tr>\n",
              "    <tr>\n",
              "      <th>2013</th>\n",
              "      <td>8.4</td>\n",
              "      <td>15.7</td>\n",
              "      <td>5.4</td>\n",
              "      <td>33.4</td>\n",
              "      <td>52.1</td>\n",
              "      <td>44.0</td>\n",
              "    </tr>\n",
              "    <tr>\n",
              "      <th>2014</th>\n",
              "      <td>7.8</td>\n",
              "      <td>15.0</td>\n",
              "      <td>6.1</td>\n",
              "      <td>33.1</td>\n",
              "      <td>50.7</td>\n",
              "      <td>40.0</td>\n",
              "    </tr>\n",
              "    <tr>\n",
              "      <th>2015</th>\n",
              "      <td>9.5</td>\n",
              "      <td>14.2</td>\n",
              "      <td>5.8</td>\n",
              "      <td>32.0</td>\n",
              "      <td>47.7</td>\n",
              "      <td>40.6</td>\n",
              "    </tr>\n",
              "    <tr>\n",
              "      <th>2016</th>\n",
              "      <td>10.3</td>\n",
              "      <td>13.8</td>\n",
              "      <td>5.6</td>\n",
              "      <td>31.9</td>\n",
              "      <td>50.2</td>\n",
              "      <td>40.9</td>\n",
              "    </tr>\n",
              "  </tbody>\n",
              "</table>\n",
              "</div>"
            ],
            "text/plain": [
              "description  Anxiety disorder  Daily smokers  Diabetes  Healthy weight  \\\n",
              "Year                                                                     \n",
              "2006                      4.3           18.3       5.1            36.2   \n",
              "2007                      NaN            NaN       NaN             NaN   \n",
              "2011                      6.1           16.3       5.5            34.3   \n",
              "2012                      6.4           15.6       5.8            33.7   \n",
              "2013                      8.4           15.7       5.4            33.4   \n",
              "2014                      7.8           15.0       6.1            33.1   \n",
              "2015                      9.5           14.2       5.8            32.0   \n",
              "2016                     10.3           13.8       5.6            31.9   \n",
              "\n",
              "description  Physically active  Self-rated health - very good  \n",
              "Year                                                           \n",
              "2006                      52.0                           41.0  \n",
              "2007                       NaN                            NaN  \n",
              "2011                      54.4                           37.3  \n",
              "2012                      51.7                           38.8  \n",
              "2013                      52.1                           44.0  \n",
              "2014                      50.7                           40.0  \n",
              "2015                      47.7                           40.6  \n",
              "2016                      50.2                           40.9  "
            ]
          },
          "execution_count": 12,
          "metadata": {},
          "output_type": "execute_result"
        }
      ],
      "source": [
        "# index.names is used to name the index column\n",
        "df_Filtering.index.names=['Year']\n",
        "df_Filtering"
      ]
    },
    {
      "cell_type": "markdown",
      "metadata": {
        "id": "6UIQLugO5_dl"
      },
      "source": [
        "## Creating a function:\n",
        "\n",
        "To obtain meaningful insights from the data and relationships within, plotting certain variables will provide the best representation for preliminary findings. To achieve this, a function was created to filter the description, population, and groups and organize them appropriately."
      ]
    },
    {
      "cell_type": "code",
      "execution_count": null,
      "metadata": {
        "id": "a-9lQr6S5_dl"
      },
      "outputs": [],
      "source": [
        "To get meaningful insights from the data and relationships within, plotting certain variables will give the best representation for preliminary findings. To do so, I created a function that would filter the description, population, and groups and organize them appropriately.# function performs the wrangling for any population, group, and any list of description labels of any length\n",
        "def wrangling(population,group,description):\n",
        "    df_wrangling=health_df[(health_df['description'].isin(description))\n",
        "                    &(health_df['population']==population)\n",
        "                    & (health_df['group']==group)]\n",
        "    df_wrangling=df_wrangling.pivot_table(columns='description')\n",
        "    df_wrangling.index.names=['Year']\n",
        "\n",
        "    return df_wrangling"
      ]
    },
    {
      "cell_type": "markdown",
      "metadata": {
        "id": "DRdAffrg5_dl"
      },
      "source": [
        "Testing the function on various combinations of the dataset to generate a dataframe that illustrates the relationship. The following dataframe presents filtered data related to adults and Total groups for the health descriptions 'Physically active', 'Anxiety disorder', 'Daily smokers', 'Diabetes', 'Self-rated health - very good', and 'Healthy weight'."
      ]
    },
    {
      "cell_type": "code",
      "execution_count": null,
      "metadata": {
        "colab": {
          "base_uri": "https://localhost:8080/",
          "height": 331
        },
        "id": "FSzjy6N-5_dl",
        "outputId": "cbdb0966-c4f5-472f-8014-48d8bfccbe19"
      },
      "outputs": [
        {
          "data": {
            "text/html": [
              "<div>\n",
              "<style scoped>\n",
              "    .dataframe tbody tr th:only-of-type {\n",
              "        vertical-align: middle;\n",
              "    }\n",
              "\n",
              "    .dataframe tbody tr th {\n",
              "        vertical-align: top;\n",
              "    }\n",
              "\n",
              "    .dataframe thead th {\n",
              "        text-align: right;\n",
              "    }\n",
              "</style>\n",
              "<table border=\"1\" class=\"dataframe\">\n",
              "  <thead>\n",
              "    <tr style=\"text-align: right;\">\n",
              "      <th>description</th>\n",
              "      <th>Anxiety disorder</th>\n",
              "      <th>Daily smokers</th>\n",
              "      <th>Diabetes</th>\n",
              "      <th>Healthy weight</th>\n",
              "      <th>Physically active</th>\n",
              "      <th>Self-rated health - very good</th>\n",
              "    </tr>\n",
              "    <tr>\n",
              "      <th>Year</th>\n",
              "      <th></th>\n",
              "      <th></th>\n",
              "      <th></th>\n",
              "      <th></th>\n",
              "      <th></th>\n",
              "      <th></th>\n",
              "    </tr>\n",
              "  </thead>\n",
              "  <tbody>\n",
              "    <tr>\n",
              "      <th>2006</th>\n",
              "      <td>4.3</td>\n",
              "      <td>18.3</td>\n",
              "      <td>5.1</td>\n",
              "      <td>36.2</td>\n",
              "      <td>52.0</td>\n",
              "      <td>41.0</td>\n",
              "    </tr>\n",
              "    <tr>\n",
              "      <th>2007</th>\n",
              "      <td>NaN</td>\n",
              "      <td>NaN</td>\n",
              "      <td>NaN</td>\n",
              "      <td>NaN</td>\n",
              "      <td>NaN</td>\n",
              "      <td>NaN</td>\n",
              "    </tr>\n",
              "    <tr>\n",
              "      <th>2011</th>\n",
              "      <td>6.1</td>\n",
              "      <td>16.3</td>\n",
              "      <td>5.5</td>\n",
              "      <td>34.3</td>\n",
              "      <td>54.4</td>\n",
              "      <td>37.3</td>\n",
              "    </tr>\n",
              "    <tr>\n",
              "      <th>2012</th>\n",
              "      <td>6.4</td>\n",
              "      <td>15.6</td>\n",
              "      <td>5.8</td>\n",
              "      <td>33.7</td>\n",
              "      <td>51.7</td>\n",
              "      <td>38.8</td>\n",
              "    </tr>\n",
              "    <tr>\n",
              "      <th>2013</th>\n",
              "      <td>8.4</td>\n",
              "      <td>15.7</td>\n",
              "      <td>5.4</td>\n",
              "      <td>33.4</td>\n",
              "      <td>52.1</td>\n",
              "      <td>44.0</td>\n",
              "    </tr>\n",
              "    <tr>\n",
              "      <th>2014</th>\n",
              "      <td>7.8</td>\n",
              "      <td>15.0</td>\n",
              "      <td>6.1</td>\n",
              "      <td>33.1</td>\n",
              "      <td>50.7</td>\n",
              "      <td>40.0</td>\n",
              "    </tr>\n",
              "    <tr>\n",
              "      <th>2015</th>\n",
              "      <td>9.5</td>\n",
              "      <td>14.2</td>\n",
              "      <td>5.8</td>\n",
              "      <td>32.0</td>\n",
              "      <td>47.7</td>\n",
              "      <td>40.6</td>\n",
              "    </tr>\n",
              "    <tr>\n",
              "      <th>2016</th>\n",
              "      <td>10.3</td>\n",
              "      <td>13.8</td>\n",
              "      <td>5.6</td>\n",
              "      <td>31.9</td>\n",
              "      <td>50.2</td>\n",
              "      <td>40.9</td>\n",
              "    </tr>\n",
              "  </tbody>\n",
              "</table>\n",
              "</div>"
            ],
            "text/plain": [
              "description  Anxiety disorder  Daily smokers  Diabetes  Healthy weight  \\\n",
              "Year                                                                     \n",
              "2006                      4.3           18.3       5.1            36.2   \n",
              "2007                      NaN            NaN       NaN             NaN   \n",
              "2011                      6.1           16.3       5.5            34.3   \n",
              "2012                      6.4           15.6       5.8            33.7   \n",
              "2013                      8.4           15.7       5.4            33.4   \n",
              "2014                      7.8           15.0       6.1            33.1   \n",
              "2015                      9.5           14.2       5.8            32.0   \n",
              "2016                     10.3           13.8       5.6            31.9   \n",
              "\n",
              "description  Physically active  Self-rated health - very good  \n",
              "Year                                                           \n",
              "2006                      52.0                           41.0  \n",
              "2007                       NaN                            NaN  \n",
              "2011                      54.4                           37.3  \n",
              "2012                      51.7                           38.8  \n",
              "2013                      52.1                           44.0  \n",
              "2014                      50.7                           40.0  \n",
              "2015                      47.7                           40.6  \n",
              "2016                      50.2                           40.9  "
            ]
          },
          "execution_count": 14,
          "metadata": {},
          "output_type": "execute_result"
        }
      ],
      "source": [
        "# testing the function by usin different combination of population, group and description labels of any length.\n",
        "wrangling('adults','Total',['Physically active','Anxiety disorder','Daily smokers','Diabetes','Self-rated health - very good','Healthy weight'])"
      ]
    },
    {
      "cell_type": "markdown",
      "metadata": {
        "id": "yxBvbDEKo_JL"
      },
      "source": [
        "Below, the empty dataframe is showing that there is no relationship among the variable."
      ]
    },
    {
      "cell_type": "code",
      "execution_count": null,
      "metadata": {
        "colab": {
          "base_uri": "https://localhost:8080/",
          "height": 331
        },
        "id": "idJMBdx35_dm",
        "outputId": "aa9ec86e-aacf-438c-d1b9-36dc577e7ade"
      },
      "outputs": [
        {
          "data": {
            "text/html": [
              "<div>\n",
              "<style scoped>\n",
              "    .dataframe tbody tr th:only-of-type {\n",
              "        vertical-align: middle;\n",
              "    }\n",
              "\n",
              "    .dataframe tbody tr th {\n",
              "        vertical-align: top;\n",
              "    }\n",
              "\n",
              "    .dataframe thead th {\n",
              "        text-align: right;\n",
              "    }\n",
              "</style>\n",
              "<table border=\"1\" class=\"dataframe\">\n",
              "  <thead>\n",
              "    <tr style=\"text-align: right;\">\n",
              "      <th>description</th>\n",
              "    </tr>\n",
              "    <tr>\n",
              "      <th>Year</th>\n",
              "    </tr>\n",
              "  </thead>\n",
              "  <tbody>\n",
              "    <tr>\n",
              "      <th>2006</th>\n",
              "    </tr>\n",
              "    <tr>\n",
              "      <th>2007</th>\n",
              "    </tr>\n",
              "    <tr>\n",
              "      <th>2011</th>\n",
              "    </tr>\n",
              "    <tr>\n",
              "      <th>2012</th>\n",
              "    </tr>\n",
              "    <tr>\n",
              "      <th>2013</th>\n",
              "    </tr>\n",
              "    <tr>\n",
              "      <th>2014</th>\n",
              "    </tr>\n",
              "    <tr>\n",
              "      <th>2015</th>\n",
              "    </tr>\n",
              "    <tr>\n",
              "      <th>2016</th>\n",
              "    </tr>\n",
              "  </tbody>\n",
              "</table>\n",
              "</div>"
            ],
            "text/plain": [
              "Empty DataFrame\n",
              "Columns: []\n",
              "Index: [2006, 2007, 2011, 2012, 2013, 2014, 2015, 2016]"
            ]
          },
          "execution_count": 15,
          "metadata": {},
          "output_type": "execute_result"
        }
      ],
      "source": [
        "# Wrangling function is returning empty dataframes because we have choosen ‘children’ as your population and ‘Men’ as your group, which make no sense.\n",
        "wrangling('children','Men',['Physically active','Anxiety disorder','Daily smokers','Diabetes','Self-rated health - very good','Healthy weight'])"
      ]
    },
    {
      "cell_type": "code",
      "execution_count": null,
      "metadata": {
        "colab": {
          "base_uri": "https://localhost:8080/",
          "height": 331
        },
        "id": "i-bU9B2A5_dm",
        "outputId": "9a9a3815-c664-4b32-cbe9-d75e96eb384c"
      },
      "outputs": [
        {
          "data": {
            "text/html": [
              "<div>\n",
              "<style scoped>\n",
              "    .dataframe tbody tr th:only-of-type {\n",
              "        vertical-align: middle;\n",
              "    }\n",
              "\n",
              "    .dataframe tbody tr th {\n",
              "        vertical-align: top;\n",
              "    }\n",
              "\n",
              "    .dataframe thead th {\n",
              "        text-align: right;\n",
              "    }\n",
              "</style>\n",
              "<table border=\"1\" class=\"dataframe\">\n",
              "  <thead>\n",
              "    <tr style=\"text-align: right;\">\n",
              "      <th>description</th>\n",
              "      <th>After-hours medical centre visit</th>\n",
              "      <th>Physically active</th>\n",
              "    </tr>\n",
              "    <tr>\n",
              "      <th>Year</th>\n",
              "      <th></th>\n",
              "      <th></th>\n",
              "    </tr>\n",
              "  </thead>\n",
              "  <tbody>\n",
              "    <tr>\n",
              "      <th>2006</th>\n",
              "      <td>NaN</td>\n",
              "      <td>48.8</td>\n",
              "    </tr>\n",
              "    <tr>\n",
              "      <th>2007</th>\n",
              "      <td>NaN</td>\n",
              "      <td>NaN</td>\n",
              "    </tr>\n",
              "    <tr>\n",
              "      <th>2011</th>\n",
              "      <td>13.0</td>\n",
              "      <td>51.7</td>\n",
              "    </tr>\n",
              "    <tr>\n",
              "      <th>2012</th>\n",
              "      <td>13.0</td>\n",
              "      <td>47.9</td>\n",
              "    </tr>\n",
              "    <tr>\n",
              "      <th>2013</th>\n",
              "      <td>12.0</td>\n",
              "      <td>49.1</td>\n",
              "    </tr>\n",
              "    <tr>\n",
              "      <th>2014</th>\n",
              "      <td>11.0</td>\n",
              "      <td>46.5</td>\n",
              "    </tr>\n",
              "    <tr>\n",
              "      <th>2015</th>\n",
              "      <td>12.3</td>\n",
              "      <td>44.5</td>\n",
              "    </tr>\n",
              "    <tr>\n",
              "      <th>2016</th>\n",
              "      <td>11.8</td>\n",
              "      <td>47.6</td>\n",
              "    </tr>\n",
              "  </tbody>\n",
              "</table>\n",
              "</div>"
            ],
            "text/plain": [
              "description  After-hours medical centre visit  Physically active\n",
              "Year                                                            \n",
              "2006                                      NaN               48.8\n",
              "2007                                      NaN                NaN\n",
              "2011                                     13.0               51.7\n",
              "2012                                     13.0               47.9\n",
              "2013                                     12.0               49.1\n",
              "2014                                     11.0               46.5\n",
              "2015                                     12.3               44.5\n",
              "2016                                     11.8               47.6"
            ]
          },
          "execution_count": 16,
          "metadata": {},
          "output_type": "execute_result"
        }
      ],
      "source": [
        "wrangling('adults','Women',['Physically active','After-hours medical centre visit','Past-year drinkers''Healthy weight'])"
      ]
    },
    {
      "cell_type": "code",
      "execution_count": null,
      "metadata": {
        "colab": {
          "base_uri": "https://localhost:8080/",
          "height": 331
        },
        "id": "Rpw156us5_dm",
        "outputId": "a6d919b1-9411-4237-8eee-f057d782accb"
      },
      "outputs": [
        {
          "data": {
            "text/html": [
              "<div>\n",
              "<style scoped>\n",
              "    .dataframe tbody tr th:only-of-type {\n",
              "        vertical-align: middle;\n",
              "    }\n",
              "\n",
              "    .dataframe tbody tr th {\n",
              "        vertical-align: top;\n",
              "    }\n",
              "\n",
              "    .dataframe thead th {\n",
              "        text-align: right;\n",
              "    }\n",
              "</style>\n",
              "<table border=\"1\" class=\"dataframe\">\n",
              "  <thead>\n",
              "    <tr style=\"text-align: right;\">\n",
              "      <th>description</th>\n",
              "      <th>Depression</th>\n",
              "      <th>Healthy weight</th>\n",
              "      <th>Past-year drinkers</th>\n",
              "      <th>Physically active</th>\n",
              "    </tr>\n",
              "    <tr>\n",
              "      <th>Year</th>\n",
              "      <th></th>\n",
              "      <th></th>\n",
              "      <th></th>\n",
              "      <th></th>\n",
              "    </tr>\n",
              "  </thead>\n",
              "  <tbody>\n",
              "    <tr>\n",
              "      <th>2006</th>\n",
              "      <td>8.2</td>\n",
              "      <td>31.2</td>\n",
              "      <td>87.7</td>\n",
              "      <td>55.5</td>\n",
              "    </tr>\n",
              "    <tr>\n",
              "      <th>2007</th>\n",
              "      <td>NaN</td>\n",
              "      <td>NaN</td>\n",
              "      <td>NaN</td>\n",
              "      <td>NaN</td>\n",
              "    </tr>\n",
              "    <tr>\n",
              "      <th>2011</th>\n",
              "      <td>10.3</td>\n",
              "      <td>30.1</td>\n",
              "      <td>84.6</td>\n",
              "      <td>57.3</td>\n",
              "    </tr>\n",
              "    <tr>\n",
              "      <th>2012</th>\n",
              "      <td>11.1</td>\n",
              "      <td>30.3</td>\n",
              "      <td>83.9</td>\n",
              "      <td>55.8</td>\n",
              "    </tr>\n",
              "    <tr>\n",
              "      <th>2013</th>\n",
              "      <td>11.5</td>\n",
              "      <td>28.2</td>\n",
              "      <td>84.1</td>\n",
              "      <td>55.2</td>\n",
              "    </tr>\n",
              "    <tr>\n",
              "      <th>2014</th>\n",
              "      <td>10.2</td>\n",
              "      <td>29.3</td>\n",
              "      <td>84.2</td>\n",
              "      <td>55.2</td>\n",
              "    </tr>\n",
              "    <tr>\n",
              "      <th>2015</th>\n",
              "      <td>11.3</td>\n",
              "      <td>28.8</td>\n",
              "      <td>84.1</td>\n",
              "      <td>51.0</td>\n",
              "    </tr>\n",
              "    <tr>\n",
              "      <th>2016</th>\n",
              "      <td>13.0</td>\n",
              "      <td>29.4</td>\n",
              "      <td>83.6</td>\n",
              "      <td>53.0</td>\n",
              "    </tr>\n",
              "  </tbody>\n",
              "</table>\n",
              "</div>"
            ],
            "text/plain": [
              "description  Depression  Healthy weight  Past-year drinkers  Physically active\n",
              "Year                                                                          \n",
              "2006                8.2            31.2                87.7               55.5\n",
              "2007                NaN             NaN                 NaN                NaN\n",
              "2011               10.3            30.1                84.6               57.3\n",
              "2012               11.1            30.3                83.9               55.8\n",
              "2013               11.5            28.2                84.1               55.2\n",
              "2014               10.2            29.3                84.2               55.2\n",
              "2015               11.3            28.8                84.1               51.0\n",
              "2016               13.0            29.4                83.6               53.0"
            ]
          },
          "execution_count": 17,
          "metadata": {},
          "output_type": "execute_result"
        }
      ],
      "source": [
        "wrangling('adults','Men',['Physically active','Depression','Past-year drinkers','Healthy weight'])"
      ]
    },
    {
      "cell_type": "markdown",
      "metadata": {
        "id": "3W-6WgtTLqGu"
      },
      "source": [
        "## Data Plots\n",
        "\n",
        "To begin with, we can observe anxiety disorders among adults and children separately."
      ]
    },
    {
      "cell_type": "code",
      "execution_count": null,
      "metadata": {
        "id": "VkCcJyBD5_dm",
        "outputId": "94880ce5-6c1c-4c53-e0a4-64518ec06eef"
      },
      "outputs": [
        {
          "name": "stdout",
          "output_type": "stream",
          "text": [
            "description  Anxiety disorder\n",
            "Year                         \n",
            "2006                      4.3\n",
            "2007                      NaN\n",
            "2011                      6.1\n",
            "2012                      6.4\n",
            "2013                      8.4\n",
            "2014                      7.8\n",
            "2015                      9.5\n",
            "2016                     10.3\n"
          ]
        },
        {
          "data": {
            "text/plain": [
              "<matplotlib.legend.Legend at 0x190b9cbfcd0>"
            ]
          },
          "execution_count": 18,
          "metadata": {},
          "output_type": "execute_result"
        },
        {
          "data": {
            "image/png": "[encoded data removed]",
            "text/plain": [
              "<Figure size 1080x720 with 1 Axes>"
            ]
          },
          "metadata": {},
          "output_type": "display_data"
        }
      ],
      "source": [
        "anxiety_adults=wrangling('adults','Total',['Anxiety disorder'])\n",
        "print(anxiety_adults)\n",
        "ax=anxiety_adults.dropna().plot(color='green',label='Anxiety disorder in adults',style='.-')\n",
        "ax.set_ylabel(\"No of adults suffering from Anxiety disorder\")\n",
        "ax.set_xlabel(\"Years\")\n",
        "plt.title(\"Increased prevalence of anxiety disorder among adults\")\n",
        "plt.legend(loc=2)"
      ]
    },
    {
      "cell_type": "code",
      "execution_count": null,
      "metadata": {
        "id": "HUwd3hC1o_JM",
        "outputId": "4c63b163-0121-4235-d15a-1cbf1cc142e8"
      },
      "outputs": [
        {
          "name": "stdout",
          "output_type": "stream",
          "text": [
            "description  Anxiety disorder\n",
            "Year                         \n",
            "2006                      0.4\n",
            "2007                      NaN\n",
            "2011                      2.1\n",
            "2012                      1.9\n",
            "2013                      2.8\n",
            "2014                      2.6\n",
            "2015                      2.7\n",
            "2016                      3.0\n"
          ]
        },
        {
          "data": {
            "text/plain": [
              "<matplotlib.legend.Legend at 0x190bacdf4c0>"
            ]
          },
          "execution_count": 19,
          "metadata": {},
          "output_type": "execute_result"
        },
        {
          "data": {
            "image/png": "[encoded data removed]",
            "text/plain": [
              "<Figure size 1080x720 with 1 Axes>"
            ]
          },
          "metadata": {},
          "output_type": "display_data"
        }
      ],
      "source": [
        "anxiety_children=wrangling('children','Total',['Anxiety disorder'])\n",
        "print(anxiety_children)\n",
        "ax=anxiety_children.dropna().plot(color='red',label='Anxiety disorder in adults',style='.-')\n",
        "ax.set_ylabel(\"No of children suffering from Anxiety disorder\")\n",
        "ax.set_xlabel(\"Years\")\n",
        "plt.title(\"Increased prevalence of anxiety disorder among children\")\n",
        "plt.legend(loc=2)"
      ]
    },
    {
      "cell_type": "markdown",
      "metadata": {
        "id": "xwm7dV5MeWYQ"
      },
      "source": [
        "## Increased prevalence of anxiety disorder\n",
        "To best display the results, it is better to combine them. The plot below depicts the increased prevalence of anxiety disorder among adults and children. The data reveals that in the past year, rates of anxiety disorder were higher for adults than for children. Furthermore, anxiety disorder cases have increased more rapidly among adults compared to children. In 2006, the rate was only 4.3, which increased to 10.3 by the end of 2016. In contrast, the cases among children in 2006 were at 0.4 and reached 3.0 in 2016."
      ]
    },
    {
      "cell_type": "code",
      "execution_count": null,
      "metadata": {
        "colab": {
          "base_uri": "https://localhost:8080/",
          "height": 295
        },
        "id": "1mAb6cuO5_dn",
        "outputId": "bcefe3ec-f42e-453b-b818-21126bf478e8"
      },
      "outputs": [
        {
          "data": {
            "image/png": "[encoded data removed]",
            "text/plain": [
              "<Figure size 1080x720 with 1 Axes>"
            ]
          },
          "metadata": {},
          "output_type": "display_data"
        }
      ],
      "source": [
        "\n",
        "ax = anxiety_adults.dropna().plot(color='green',label='Anxiety disorder in adults',style='.-')\n",
        "ax=anxiety_children.dropna().plot(ax=ax, linestyle=\"--\",color='red',label='Anxiety disorder in children',style='.-')\n",
        "ax.set_ylabel(\"No of population suffering from Anxiety disorder\")\n",
        "ax.set_xlabel(\"Years\")\n",
        "plt.title(\"Increased prevalence of anxiety disorder\")\n",
        "plt.legend(loc=2)\n",
        "plt.show()"
      ]
    },
    {
      "cell_type": "markdown",
      "metadata": {
        "id": "NuwJRteQo_JN"
      },
      "source": [
        "## Smoking trend in New Zealand\n",
        "The plot presents an interesting fact: an increased ratio of current, daily, and heavy smokers was expected, but it can be seen that every year the smoking rates are decreasing. In 2006, the highest rate was reported, and then this ratio gradually decreased. As shown below, more smokers in New Zealand have quit smoking in the last several years. One reason behind this trend could be an increase in tobacco prices.\n",
        "\n",
        "On the other hand, the ratio of those who mostly smoke both manufactured and roll-your-own cigarettes fluctuates each year. One possible reason could be that smokers are coping with the increase in prices.\n"
      ]
    },
    {
      "cell_type": "code",
      "execution_count": null,
      "metadata": {
        "id": "Jf2_IUo1o_JN",
        "outputId": "a446802a-3b9d-453e-a971-e668132d1b61"
      },
      "outputs": [
        {
          "data": {
            "image/png": "[encoded data removed]",
            "text/plain": [
              "<Figure size 1080x720 with 1 Axes>"
            ]
          },
          "metadata": {},
          "output_type": "display_data"
        }
      ],
      "source": [
        "smoker_labels = [\n",
        "    'Heavy smokers',\n",
        "    'Current smokers',\n",
        "    'Daily smokers',\n",
        "    'Mostly smoke both manufactured and roll-your own cigarettes'\n",
        "]\n",
        "smoking_trend=wrangling('adults','Total',smoker_labels).dropna().plot()\n",
        "smoking_trend.plot()\n",
        "plt.legend(loc=1, prop={'size':10})\n",
        "plt.xlabel=\"Years\"\n",
        "plt.ylabel=\"Smokers ratio\"\n",
        "plt.title('Smoking trend in New Zealand')\n",
        "plt.show()\n",
        "\n"
      ]
    },
    {
      "cell_type": "markdown",
      "metadata": {
        "id": "q4yhdl-Og1zT"
      },
      "source": [
        "## Conclusion"
      ]
    },
    {
      "cell_type": "markdown",
      "metadata": {
        "id": "MMko--585_do",
        "outputId": "83502204-c03b-46e4-f1b5-fec5327a4d98"
      },
      "source": [
        "This report aims to answer some questions that may provide important information about the healthy lifestyle of the New Zealand population.\n",
        "\n",
        "The data spans from 2006 to 2016 and was consistently found. It was gathered from different groups of adults and children, each displaying varying health description ratios.\n",
        "\n",
        "In the report, three main questions are addressed. First, the anxiety order ratio among adults is observed to be greater than that among children, and this ratio gradually increases over the years. These increasing ratios may be influenced by various factors such as life experiences and environments.\n",
        "\n",
        "Secondly, the report addresses the smoking rate. Interestingly, the findings differ from the initial hypothesis. Contrary to expectations of increased cases, the rate of smokers has actually decreased.\n",
        "\n",
        "In conclusion, this survey report illustrates the health patterns of New Zealand. It reveals several interesting factors that warrant further analysis.\n"
      ]
    }
  ],
  "metadata": {
    "colab": {
      "provenance": []
    },
    "kernelspec": {
      "display_name": "Python 3",
      "language": "python",
      "name": "python3"
    },
    "language_info": {
      "codemirror_mode": {
        "name": "ipython",
        "version": 3
      },
      "file_extension": ".py",
      "mimetype": "text/x-python",
      "name": "python",
      "nbconvert_exporter": "python",
      "pygments_lexer": "ipython3",
      "version": "3.8.5"
    }
  },
  "nbformat": 4,
  "nbformat_minor": 0
}